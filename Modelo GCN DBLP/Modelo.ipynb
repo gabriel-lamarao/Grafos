{
 "cells": [
  {
   "cell_type": "code",
   "execution_count": 1,
   "id": "1a12b4d2",
   "metadata": {
    "gradient": {
     "editing": false,
     "execution_count": 12,
     "id": "59a16f59",
     "kernelId": "eba97731-034f-44f2-9698-37871b21996f"
    }
   },
   "outputs": [
    {
     "name": "stdout",
     "output_type": "stream",
     "text": [
      "\u001b[33mWARNING: Skipping torchtext as it is not installed.\u001b[0m\n",
      "\u001b[33mWARNING: Running pip as the 'root' user can result in broken permissions and conflicting behaviour with the system package manager. It is recommended to use a virtual environment instead: https://pip.pypa.io/warnings/venv\u001b[0m\n",
      "\u001b[33mWARNING: Skipping torchvision as it is not installed.\u001b[0m\n",
      "\u001b[33mWARNING: Running pip as the 'root' user can result in broken permissions and conflicting behaviour with the system package manager. It is recommended to use a virtual environment instead: https://pip.pypa.io/warnings/venv\u001b[0m\n",
      "Found existing installation: torch 1.9.0\n",
      "Uninstalling torch-1.9.0:\n",
      "  Successfully uninstalled torch-1.9.0\n",
      "\u001b[33mWARNING: Running pip as the 'root' user can result in broken permissions and conflicting behaviour with the system package manager. It is recommended to use a virtual environment instead: https://pip.pypa.io/warnings/venv\u001b[0m\n"
     ]
    }
   ],
   "source": [
    "!pip3 uninstall torchtext -y\n",
    "!pip3 uninstall torchvision -y\n",
    "!pip3 uninstall torch -y"
   ]
  },
  {
   "cell_type": "code",
   "execution_count": 2,
   "id": "c2cb4ba2",
   "metadata": {
    "gradient": {
     "editing": false,
     "execution_count": 13,
     "id": "37f7e31c",
     "kernelId": "eba97731-034f-44f2-9698-37871b21996f"
    }
   },
   "outputs": [
    {
     "name": "stdout",
     "output_type": "stream",
     "text": [
      "Looking in indexes: https://pypi.org/simple, https://pypi.ngc.nvidia.com\n",
      "Collecting torch==1.9.0\n",
      "  Downloading torch-1.9.0-cp38-cp38-manylinux1_x86_64.whl (831.4 MB)\n",
      "\u001b[K     |████████████████████████████████| 831.4 MB 22.9 MB/s eta 0:00:01     |██████▊                         | 174.1 MB 23.8 MB/s eta 0:00:28     |██████████████████              | 470.0 MB 22.0 MB/s eta 0:00:17     |██████████████████████          | 572.2 MB 23.2 MB/s eta 0:00:12     |███████████████████████████████▋| 820.8 MB 22.9 MB/s eta 0:00:01\n",
      "\u001b[?25hRequirement already satisfied: typing-extensions in /opt/conda/lib/python3.8/site-packages (from torch==1.9.0) (3.10.0.2)\n",
      "Installing collected packages: torch\n",
      "Successfully installed torch-1.9.0\n",
      "\u001b[33mWARNING: Running pip as the 'root' user can result in broken permissions and conflicting behaviour with the system package manager. It is recommended to use a virtual environment instead: https://pip.pypa.io/warnings/venv\u001b[0m\n"
     ]
    }
   ],
   "source": [
    "!pip3 install torch==1.9.0"
   ]
  },
  {
   "cell_type": "code",
   "execution_count": 3,
   "id": "2382aebc",
   "metadata": {
    "gradient": {
     "editing": false,
     "execution_count": 17,
     "id": "b68aa666",
     "kernelId": "eba97731-034f-44f2-9698-37871b21996f"
    }
   },
   "outputs": [
    {
     "name": "stdout",
     "output_type": "stream",
     "text": [
      "Looking in links: https://pytorch-geometric.com/whl/torch-1.9.0+cu102.html\n",
      "Collecting torch-scatter\n",
      "  Downloading https://data.pyg.org/whl/torch-1.9.0%2Bcu102/torch_scatter-2.0.9-cp38-cp38-linux_x86_64.whl (8.0 MB)\n",
      "\u001b[K     |████████████████████████████████| 8.0 MB 5.3 MB/s eta 0:00:01\n",
      "\u001b[?25hInstalling collected packages: torch-scatter\n",
      "Successfully installed torch-scatter-2.0.9\n",
      "\u001b[33mWARNING: Running pip as the 'root' user can result in broken permissions and conflicting behaviour with the system package manager. It is recommended to use a virtual environment instead: https://pip.pypa.io/warnings/venv\u001b[0m\n",
      "Looking in links: https://pytorch-geometric.com/whl/torch-1.9.0+cu102.html\n",
      "Collecting torch-sparse\n",
      "  Downloading https://data.pyg.org/whl/torch-1.9.0%2Bcu102/torch_sparse-0.6.12-cp38-cp38-linux_x86_64.whl (2.9 MB)\n",
      "\u001b[K     |████████████████████████████████| 2.9 MB 7.3 MB/s eta 0:00:01\n",
      "\u001b[?25hRequirement already satisfied: scipy in /opt/conda/lib/python3.8/site-packages (from torch-sparse) (1.6.3)\n",
      "Requirement already satisfied: numpy<1.23.0,>=1.16.5 in /opt/conda/lib/python3.8/site-packages (from scipy->torch-sparse) (1.21.2)\n",
      "Installing collected packages: torch-sparse\n",
      "Successfully installed torch-sparse-0.6.12\n",
      "\u001b[33mWARNING: Running pip as the 'root' user can result in broken permissions and conflicting behaviour with the system package manager. It is recommended to use a virtual environment instead: https://pip.pypa.io/warnings/venv\u001b[0m\n",
      "Looking in links: https://pytorch-geometric.com/whl/torch-1.9.0+cu102.html\n",
      "Collecting torch-cluster\n",
      "  Downloading https://data.pyg.org/whl/torch-1.9.0%2Bcu102/torch_cluster-1.5.9-cp38-cp38-linux_x86_64.whl (1.4 MB)\n",
      "\u001b[K     |████████████████████████████████| 1.4 MB 7.1 MB/s eta 0:00:01\n",
      "\u001b[?25hInstalling collected packages: torch-cluster\n",
      "Successfully installed torch-cluster-1.5.9\n",
      "\u001b[33mWARNING: Running pip as the 'root' user can result in broken permissions and conflicting behaviour with the system package manager. It is recommended to use a virtual environment instead: https://pip.pypa.io/warnings/venv\u001b[0m\n",
      "Looking in links: https://pytorch-geometric.com/whl/torch-1.9.0+cu102.html\n",
      "Collecting torch-spline-conv\n",
      "  Downloading https://data.pyg.org/whl/torch-1.9.0%2Bcu102/torch_spline_conv-1.2.1-cp38-cp38-linux_x86_64.whl (677 kB)\n",
      "\u001b[K     |████████████████████████████████| 677 kB 7.0 MB/s eta 0:00:01\n",
      "\u001b[?25hInstalling collected packages: torch-spline-conv\n",
      "Successfully installed torch-spline-conv-1.2.1\n",
      "\u001b[33mWARNING: Running pip as the 'root' user can result in broken permissions and conflicting behaviour with the system package manager. It is recommended to use a virtual environment instead: https://pip.pypa.io/warnings/venv\u001b[0m\n",
      "Looking in indexes: https://pypi.org/simple, https://pypi.ngc.nvidia.com\n",
      "Requirement already satisfied: torch-geometric in /opt/conda/lib/python3.8/site-packages (2.0.3)\n",
      "Requirement already satisfied: rdflib in /opt/conda/lib/python3.8/site-packages (from torch-geometric) (6.1.1)\n",
      "Requirement already satisfied: googledrivedownloader in /opt/conda/lib/python3.8/site-packages (from torch-geometric) (0.4)\n",
      "Requirement already satisfied: scikit-learn in /opt/conda/lib/python3.8/site-packages (from torch-geometric) (1.0)\n",
      "Requirement already satisfied: pyparsing in /opt/conda/lib/python3.8/site-packages (from torch-geometric) (2.4.7)\n",
      "Requirement already satisfied: requests in /opt/conda/lib/python3.8/site-packages (from torch-geometric) (2.26.0)\n",
      "Requirement already satisfied: pandas in /opt/conda/lib/python3.8/site-packages (from torch-geometric) (1.4.1)\n",
      "Requirement already satisfied: scipy in /opt/conda/lib/python3.8/site-packages (from torch-geometric) (1.6.3)\n",
      "Requirement already satisfied: PyYAML in /opt/conda/lib/python3.8/site-packages (from torch-geometric) (5.4.1)\n",
      "Requirement already satisfied: numpy in /opt/conda/lib/python3.8/site-packages (from torch-geometric) (1.21.2)\n",
      "Requirement already satisfied: networkx in /opt/conda/lib/python3.8/site-packages (from torch-geometric) (2.0)\n",
      "Requirement already satisfied: tqdm in /opt/conda/lib/python3.8/site-packages (from torch-geometric) (4.62.3)\n",
      "Requirement already satisfied: jinja2 in /opt/conda/lib/python3.8/site-packages (from torch-geometric) (3.0.1)\n",
      "Requirement already satisfied: yacs in /opt/conda/lib/python3.8/site-packages (from torch-geometric) (0.1.8)\n",
      "Requirement already satisfied: MarkupSafe>=2.0 in /opt/conda/lib/python3.8/site-packages (from jinja2->torch-geometric) (2.0.1)\n",
      "Requirement already satisfied: decorator>=4.1.0 in /opt/conda/lib/python3.8/site-packages (from networkx->torch-geometric) (5.1.0)\n",
      "Requirement already satisfied: pytz>=2020.1 in /opt/conda/lib/python3.8/site-packages (from pandas->torch-geometric) (2021.3)\n",
      "Requirement already satisfied: python-dateutil>=2.8.1 in /opt/conda/lib/python3.8/site-packages (from pandas->torch-geometric) (2.8.2)\n",
      "Requirement already satisfied: six>=1.5 in /opt/conda/lib/python3.8/site-packages (from python-dateutil>=2.8.1->pandas->torch-geometric) (1.16.0)\n",
      "Requirement already satisfied: setuptools in /opt/conda/lib/python3.8/site-packages (from rdflib->torch-geometric) (58.2.0)\n",
      "Requirement already satisfied: isodate in /opt/conda/lib/python3.8/site-packages (from rdflib->torch-geometric) (0.6.1)\n",
      "Requirement already satisfied: certifi>=2017.4.17 in /opt/conda/lib/python3.8/site-packages (from requests->torch-geometric) (2021.5.30)\n",
      "Requirement already satisfied: urllib3<1.27,>=1.21.1 in /opt/conda/lib/python3.8/site-packages (from requests->torch-geometric) (1.26.7)\n",
      "Requirement already satisfied: charset-normalizer~=2.0.0 in /opt/conda/lib/python3.8/site-packages (from requests->torch-geometric) (2.0.0)\n",
      "Requirement already satisfied: idna<4,>=2.5 in /opt/conda/lib/python3.8/site-packages (from requests->torch-geometric) (3.1)\n",
      "Requirement already satisfied: joblib>=0.11 in /opt/conda/lib/python3.8/site-packages (from scikit-learn->torch-geometric) (1.1.0)\n",
      "Requirement already satisfied: threadpoolctl>=2.0.0 in /opt/conda/lib/python3.8/site-packages (from scikit-learn->torch-geometric) (3.0.0)\n",
      "\u001b[33mWARNING: Running pip as the 'root' user can result in broken permissions and conflicting behaviour with the system package manager. It is recommended to use a virtual environment instead: https://pip.pypa.io/warnings/venv\u001b[0m\n"
     ]
    }
   ],
   "source": [
    "import torch                                                                                                                                            \n",
    "pytorch_version=f'torch-{torch.__version__}.html'                                                                                                 \n",
    "!pip3 install --no-index torch-scatter -f https://pytorch-geometric.com/whl/$pytorch_version\n",
    "!pip3 install --no-index torch-sparse -f https://pytorch-geometric.com/whl/$pytorch_version\n",
    "!pip3 install --no-index torch-cluster -f https://pytorch-geometric.com/whl/$pytorch_version\n",
    "!pip3 install --no-index torch-spline-conv -f https://pytorch-geometric.com/whl/$pytorch_version\n",
    "!pip3 install torch-geometric"
   ]
  },
  {
   "cell_type": "code",
   "execution_count": 4,
   "id": "354e6948",
   "metadata": {
    "gradient": {
     "editing": false,
     "execution_count": 21,
     "id": "9541de97",
     "kernelId": "eba97731-034f-44f2-9698-37871b21996f"
    }
   },
   "outputs": [],
   "source": [
    "import torch\n",
    "\n",
    "#device = torch.device('cuda' if torch.cuda.is_available() else 'cpu')\n",
    "device = torch.device('cpu')"
   ]
  },
  {
   "cell_type": "code",
   "execution_count": 5,
   "id": "81fd3d37",
   "metadata": {
    "gradient": {
     "editing": false,
     "execution_count": 22,
     "id": "b5fcd55b",
     "kernelId": "eba97731-034f-44f2-9698-37871b21996f"
    }
   },
   "outputs": [],
   "source": [
    "from torch_geometric.datasets import CitationFull\n",
    "\n",
    "dataset =  CitationFull(root='.', name='DBLP' )  \n",
    "\n",
    "#Divisor de trianamento, validação e teste\n",
    "\n",
    "div_train = int( len(dataset[0].y)*  6/10 ) \n",
    "div_val = int( len(dataset[0].y)* 8/10 )\n",
    "div_test = len( dataset[0].y )\n",
    "\n",
    "#Número de classes\n",
    "\n",
    "num_classes = dataset.num_classes"
   ]
  },
  {
   "cell_type": "code",
   "execution_count": 6,
   "id": "f5c015bc",
   "metadata": {
    "gradient": {
     "editing": false,
     "execution_count": 24,
     "id": "eb53d1d9",
     "kernelId": "eba97731-034f-44f2-9698-37871b21996f"
    }
   },
   "outputs": [
    {
     "data": {
      "text/plain": [
       "4"
      ]
     },
     "execution_count": 6,
     "metadata": {},
     "output_type": "execute_result"
    }
   ],
   "source": [
    "num_classes"
   ]
  },
  {
   "cell_type": "code",
   "execution_count": 7,
   "id": "ea79fcd9",
   "metadata": {
    "gradient": {
     "editing": false,
     "execution_count": 11,
     "id": "79650d55",
     "kernelId": "eba97731-034f-44f2-9698-37871b21996f"
    }
   },
   "outputs": [],
   "source": [
    "data = dataset[0].to(device)"
   ]
  },
  {
   "cell_type": "code",
   "execution_count": 8,
   "id": "5738881c",
   "metadata": {
    "gradient": {
     "editing": false,
     "execution_count": 23,
     "id": "6460cf64",
     "kernelId": "eba97731-034f-44f2-9698-37871b21996f"
    }
   },
   "outputs": [
    {
     "data": {
      "text/plain": [
       "1"
      ]
     },
     "execution_count": 8,
     "metadata": {},
     "output_type": "execute_result"
    }
   ],
   "source": [
    "len(dataset)"
   ]
  },
  {
   "cell_type": "code",
   "execution_count": 9,
   "id": "c0bcea59",
   "metadata": {
    "gradient": {
     "editing": false,
     "id": "8c3876b6",
     "kernelId": "eba97731-034f-44f2-9698-37871b21996f"
    }
   },
   "outputs": [],
   "source": [
    "from torch.nn import Module \n",
    "from torch.nn.functional import relu, log_softmax\n",
    "from torch_geometric.nn import GCNConv\n",
    "\n",
    "EMBEDDING_SIZE = 16\n",
    "\n",
    "class GCN(Module):\n",
    "    \n",
    "    def __init__(self, input_channel, output_channel):\n",
    "        super().__init__()\n",
    "        \n",
    "        #Definir as camadas\n",
    "        \n",
    "        self.conv1 = GCNConv(input_channel, EMBEDDING_SIZE)\n",
    "        self.conv2 = GCNConv(EMBEDDING_SIZE, output_channel)\n",
    "        \n",
    "    \n",
    "    def forward(self, x, edge_index):\n",
    "        #Lógica de computação da rede\n",
    "    \n",
    "        x = self.conv1(x, edge_index).relu()\n",
    "        x = self.conv2(x, edge_index)\n",
    "        \n",
    "        return log_softmax(x, dim=1)"
   ]
  },
  {
   "cell_type": "code",
   "execution_count": 10,
   "id": "637cc6fd",
   "metadata": {
    "gradient": {
     "editing": false,
     "execution_count": 13,
     "id": "b3bbd75f",
     "kernelId": "eba97731-034f-44f2-9698-37871b21996f"
    }
   },
   "outputs": [],
   "source": [
    "input_channel = dataset.num_node_features\n",
    "output_channel = dataset.num_classes\n",
    "\n",
    "model = GCN(input_channel, output_channel).to(device)"
   ]
  },
  {
   "cell_type": "code",
   "execution_count": 11,
   "id": "c9b8bb66",
   "metadata": {
    "gradient": {
     "editing": false,
     "execution_count": 14,
     "id": "559ffabf",
     "kernelId": "eba97731-034f-44f2-9698-37871b21996f"
    }
   },
   "outputs": [],
   "source": [
    "import torch\n",
    "\n",
    "loss_function = torch.nn.CrossEntropyLoss()  \n",
    "optimizer = torch.optim.Adam(model.parameters(), lr=0.01, weight_decay=5e-4) "
   ]
  },
  {
   "cell_type": "code",
   "execution_count": 12,
   "id": "b1bb96f2",
   "metadata": {
    "gradient": {
     "execution_count": 15,
     "id": "f265b78a",
     "kernelId": "eba97731-034f-44f2-9698-37871b21996f"
    }
   },
   "outputs": [],
   "source": [
    "def train():\n",
    "    optimizer.zero_grad()\n",
    "    \n",
    "    out = model(data.x, data.edge_index) \n",
    "    \n",
    "    train_x = out[ :div_train ]\n",
    "    train_y = data.y[ :div_train ]\n",
    "    \n",
    "    loss = loss_function(train_x, train_y) \n",
    "    loss.backward()  \n",
    "    optimizer.step() \n",
    "        \n",
    "    return loss"
   ]
  },
  {
   "cell_type": "code",
   "execution_count": 13,
   "id": "1349307b",
   "metadata": {
    "gradient": {
     "execution_count": 16,
     "id": "a702702d",
     "kernelId": "eba97731-034f-44f2-9698-37871b21996f"
    }
   },
   "outputs": [],
   "source": [
    "def aval_train():\n",
    "    pred = model(data.x, data.edge_index).argmax(dim=1) # Realiza predições\n",
    "    correct = (pred[ div_train: div_val ] == data.y[ div_train:div_val ]).sum() # Soma os acertos totais\n",
    "    acc = int(correct) / len(data.y[ div_train:div_val ]) # Calcula a acurácia acertos / total\n",
    "    return acc"
   ]
  },
  {
   "cell_type": "code",
   "execution_count": 23,
   "id": "54e38be2",
   "metadata": {
    "gradient": {
     "execution_count": 17,
     "id": "546a6cdf",
     "kernelId": "eba97731-034f-44f2-9698-37871b21996f"
    }
   },
   "outputs": [
    {
     "name": "stdout",
     "output_type": "stream",
     "text": [
      "Epoch: 050, Loss: 0.2760, Acurácia: 0.8182331357606548\n",
      "Epoch: 100, Loss: 0.2696, Acurácia: 0.8168219023426475\n",
      "Epoch: 150, Loss: 0.2646, Acurácia: 0.812305955405024\n",
      "Epoch: 200, Loss: 0.2608, Acurácia: 0.8086367485182049\n",
      "Epoch: 250, Loss: 0.2577, Acurácia: 0.8120237087214225\n",
      "Epoch: 300, Loss: 0.2555, Acurácia: 0.8100479819362123\n",
      "Epoch: 350, Loss: 0.2538, Acurácia: 0.8131526954558284\n",
      "Epoch: 400, Loss: 0.2522, Acurácia: 0.8128704487722269\n",
      "Epoch: 450, Loss: 0.2509, Acurácia: 0.8125882020886255\n",
      "Epoch: 500, Loss: 0.2499, Acurácia: 0.8151284222410387\n",
      "Epoch: 550, Loss: 0.2490, Acurácia: 0.8151284222410387\n",
      "Epoch: 600, Loss: 0.2484, Acurácia: 0.8134349421394299\n"
     ]
    }
   ],
   "source": [
    "import numpy as np\n",
    "\n",
    "#Define o número de epochs\n",
    "num_epochs = 600 \n",
    "\n",
    "#Listas de acurácia e de loss\n",
    "accuracies = []\n",
    "losses = []\n",
    "\n",
    "epochs = np.arange(1, num_epochs+1)\n",
    "\n",
    "for epoch in epochs:\n",
    "    loss = train() #Realiza o treinamento\n",
    "    accuracy = aval_train() #Calcula a acurácia\n",
    "    losses.append(float(loss)) #Anexa o loss atual a lista de losses\n",
    "    accuracies.append(accuracy) # Anexa a acurácia atual na lista de acuracias\n",
    "    if epoch%50 == 0: print(f'Epoch: {epoch:03d}, Loss: {loss:.4f}, Acurácia: {accuracy}') #Imprima o status a cada 50 epochs"
   ]
  },
  {
   "cell_type": "code",
   "execution_count": 24,
   "id": "bb3b9afa",
   "metadata": {
    "gradient": {
     "execution_count": 18,
     "id": "e60308a9",
     "kernelId": "eba97731-034f-44f2-9698-37871b21996f"
    }
   },
   "outputs": [],
   "source": [
    "def aval_final():\n",
    "    pred = model(data.x, data.edge_index).argmax(dim=1) # Realiza predições\n",
    "    correct = (pred[ div_val: div_test ] == data.y[ div_val: div_test ]).sum() # Soma os acertos totais\n",
    "    acc = int(correct) / len(data.y[ div_val:div_test ]) # Calcula a acurácia acertos / total\n",
    "    print('Total de acertos: ', int(correct))\n",
    "    print('Total de dados comparados: ', len(data.y[ div_val:div_test ])) \n",
    "    print(f'Acurácia final: {acc:.2f}')\n",
    "    return acc"
   ]
  },
  {
   "cell_type": "code",
   "execution_count": 25,
   "id": "7207108b",
   "metadata": {
    "gradient": {
     "execution_count": 19,
     "id": "6d01b6d8",
     "kernelId": "eba97731-034f-44f2-9698-37871b21996f"
    }
   },
   "outputs": [
    {
     "name": "stdout",
     "output_type": "stream",
     "text": [
      "Total de acertos:  2338\n",
      "Total de dados comparados:  3544\n",
      "Acurácia final: 0.66\n"
     ]
    }
   ],
   "source": [
    "acc = aval_final()"
   ]
  },
  {
   "cell_type": "code",
   "execution_count": 26,
   "id": "5dd68c00",
   "metadata": {
    "gradient": {
     "execution_count": 20,
     "id": "b222a04b",
     "kernelId": "eba97731-034f-44f2-9698-37871b21996f"
    }
   },
   "outputs": [
    {
     "data": {
      "text/plain": [
       "[Text(0.5, 0, 'EPOCH')]"
      ]
     },
     "execution_count": 26,
     "metadata": {},
     "output_type": "execute_result"
    },
    {
     "data": {
      "image/png": "[encoded data removed]",
      "text/plain": [
       "<Figure size 288x288 with 1 Axes>"
      ]
     },
     "metadata": {
      "needs_background": "light"
     },
     "output_type": "display_data"
    }
   ],
   "source": [
    "import matplotlib.pyplot as plt \n",
    "#%matplotlib notebook\n",
    "\n",
    "l = len(epochs)*[acc]\n",
    "\n",
    "fig, ax = plt.subplots(figsize=(4,4))\n",
    "ax.plot(epochs, losses, color='red')\n",
    "ax.plot(epochs, accuracies, color='blue')\n",
    "ax.plot(epochs, l, color='orange')\n",
    "ax.set(xlabel='EPOCH')"
   ]
  },
  {
   "cell_type": "code",
   "execution_count": 27,
   "id": "3f651933",
   "metadata": {
    "gradient": {
     "execution_count": 21,
     "id": "e2689e3e",
     "kernelId": "eba97731-034f-44f2-9698-37871b21996f"
    }
   },
   "outputs": [],
   "source": [
    "fig.savefig('resultado2.jpeg', dpi=300, format='jpg')"
   ]
  },
  {
   "cell_type": "code",
   "execution_count": null,
   "id": "1e4839d0",
   "metadata": {
    "gradient": {
     "id": "0aa58621",
     "kernelId": "eba97731-034f-44f2-9698-37871b21996f"
    }
   },
   "outputs": [],
   "source": []
  }
 ],
 "metadata": {
  "kernelspec": {
   "display_name": "Python 3 (ipykernel)",
   "language": "python",
   "name": "python3"
  },
  "language_info": {
   "codemirror_mode": {
    "name": "ipython",
    "version": 3
   },
   "file_extension": ".py",
   "mimetype": "text/x-python",
   "name": "python",
   "nbconvert_exporter": "python",
   "pygments_lexer": "ipython3",
   "version": "3.8.12"
  }
 },
 "nbformat": 4,
 "nbformat_minor": 5
}
